{
 "cells": [
  {
   "cell_type": "markdown",
   "metadata": {},
   "source": [
    "# Requirements for Sturm's Theorem\n",
    "### Note: All Polynomials are Univariate\n",
    "We want to be able to use Sturm's theorem which requires:\n",
    "- Bounds\n",
    "- Evaluation of Polynomials\n",
    "- Derivatives\n",
    "- Polynomial Division\n",
    "\n",
    "Bounds will be found using Cauchy's Bound Theorem. We also need the polynomial to be \"square-free\". This means that all roots of the polynomial have multiplicity of one. If a root occurs more than once, it will also appear in the derivative. Observe\n",
    "\n",
    "\\begin{equation*}\n",
    "(x - 1)^2 = x^2 - 2x + 1 \\\\ \n",
    "\\frac{d}{dx}(x^2 -2x + 1) = 2x - 2 = 2(x - 1)\n",
    "\\end{equation*}\n",
    "\n",
    "We want to remove all repeated roots. We can do this by finding $\\frac{f}{\\textrm{gcd}(f, f')}$. This then expresses $f$ without the repeated roots. However, there are other cases to consider. How does this work with other roots? Or when there are no repeated roots. \n",
    "\n",
    "\\begin{equation*}\n",
    "(x - 1)(x + 3) = x^2 + 2x -3 \\\\\n",
    "\\frac{d}{dx}(x^2 +2x -3) = 2x + 2 = 2(x + 1)\n",
    "\\end{equation*}\n",
    "\n",
    "Now before division of the initial function we first need to find $\\textrm{gcd}(x^2 + 2x - 3, 2x + 2) = 2$ - found using Euclid's Algorithm. Since there is no multiple root, the greatest common divisor is a scalar, and this method allows us to restate the equation as square-free.\n",
    "\n",
    "This adds a new criteria for our function:\n",
    "- Euclid's Algorithm for Greatest Common Divisor (which will use polynomial division)\n",
    "\n",
    "Finally, for evaluating Sturm's theorem, we need to be able to count the number of sign changes for the Sturm series. This will be the last function required:\n",
    "- Count Number of Sign Changes in Series\n",
    "\n",
    "Additionally, since we are dealing with representation of polynomials, we need to consider the order of this list. We only plan to reduce the degree (differentiation or division), so we will store these in a list with the largest degree, $n$, first and store each coefficent in the $i$th position."
   ]
  },
  {
   "cell_type": "code",
   "execution_count": 1,
   "metadata": {},
   "outputs": [],
   "source": [
    "from fractions import Fraction\n",
    "from copy import deepcopy"
   ]
  },
  {
   "cell_type": "code",
   "execution_count": 2,
   "metadata": {},
   "outputs": [],
   "source": [
    "def cauchy_bound(coef):\n",
    "    '''This uses the Cauchy Bound Theorem to identify the range that a polynomial with coefficents coef\n",
    "    could have real roots. More explicitly, it finds the point at which the leading term dominates over\n",
    "    the other terms.\n",
    "    \n",
    "    :param coef: list-like of coefficents of a polynomial in descending order of degree\n",
    "    :return: tuple of two elements, a lower bound and an upper bound'''\n",
    "    \n",
    "    # get the absolute maximum coef\n",
    "    max_abs = abs(coef[0])\n",
    "    for c in coef:\n",
    "        if abs(c) > max_abs:\n",
    "            max_abs = abs(c)\n",
    "    # find the point at which the leading term overtakes the maximum coef\n",
    "    M = (abs(Fraction(max_abs)) / abs(Fraction(coef[0]))) + 1\n",
    "    return -M, M"
   ]
  },
  {
   "cell_type": "code",
   "execution_count": 57,
   "metadata": {},
   "outputs": [],
   "source": [
    "def horners_method(coef, x):\n",
    "    '''This evaluates a polynomial of coefficents coef at point x.\n",
    "    \n",
    "    :param coef: list-like of coefficents of a polynomial in descending order of degree\n",
    "    :param x: real number to evaluate polynomial at\n",
    "    :return: float result of evaluation'''\n",
    "    \n",
    "    out = 0\n",
    "    for c in coef[:-1]:\n",
    "        out += c\n",
    "        out *= x\n",
    "    out += coef[-1]\n",
    "    return out"
   ]
  },
  {
   "cell_type": "code",
   "execution_count": 4,
   "metadata": {},
   "outputs": [],
   "source": [
    "def differentiate(coef):\n",
    "    '''This finds the derivative of a polynomial with coefficents coef by applying the power rule.\n",
    "    \n",
    "    :param coef: list-like of coefficents of a polynomial in descending order of degree\n",
    "    :return: list-like of coefficents of derivative in descending order of degree'''\n",
    "    \n",
    "    degree = len(coef) - 1\n",
    "    out = []\n",
    "    for i in range(degree):\n",
    "        out.append(Fraction(coef[i]) * (degree - i))\n",
    "    return out"
   ]
  },
  {
   "cell_type": "code",
   "execution_count": 5,
   "metadata": {},
   "outputs": [],
   "source": [
    "def poly_div(f, g):\n",
    "    '''Divide polynomial f by polynomial g. Returns the result and remainder.\n",
    "    \n",
    "    :param f: list-like of coefficents of a polynomial in descending order of degree\n",
    "    :param g: list-like of coefficents of a polynomial in descending order of degree\n",
    "    :return: tuple of two lists of polynomial coeffients - the result and the remainder'''\n",
    "    \n",
    "    degree_f = len(f) - 1\n",
    "    degree_g = len(g) - 1\n",
    "    assert f[0] != 0, \"Must have nonzero leading coefficent\"\n",
    "    assert g[0] != 0, \"Must have nonzero leading coefficent\"\n",
    "    assert degree_f >= degree_g, \"Must divide by lesser degree\"\n",
    "    \n",
    "    # create output list of coef of the correct degree \n",
    "    # and a list for the remainder\n",
    "    out = [0 for i in range(degree_f - degree_g + 1)]\n",
    "    rem = deepcopy(f)\n",
    "    # use a while loop to handle special cases\n",
    "    for i in range(degree_f - degree_g + 1):\n",
    "        # find the coef of the ith term in f divided by the leading term of g\n",
    "        d = Fraction(rem[i]) / Fraction(g[0])\n",
    "        out[i] = d\n",
    "        # update subtraction\n",
    "        for j in range(len(g)):\n",
    "            rem[i + j] -= d * Fraction(g[j])\n",
    "\n",
    "    # f has been updated in-place to represent the remainder\n",
    "    # we need to remove the front-zeros\n",
    "    try:\n",
    "        while abs(rem[0]) < 1e-16:\n",
    "            rem.pop(0)\n",
    "    except IndexError:\n",
    "        # we have no remainder so f is empty and throws an index error\n",
    "        rem = [0]\n",
    "        \n",
    "    return out, rem"
   ]
  },
  {
   "cell_type": "code",
   "execution_count": 61,
   "metadata": {},
   "outputs": [],
   "source": [
    "def gcd(f, g):\n",
    "    '''Using Euclid's algorithm, we find the gcd between two polynomials. Returns a list of coefficents\n",
    "    to a polynomial.\n",
    "    \n",
    "    :param f: list-like of coefficents of a polynomial in descending order of degree\n",
    "    :param g: list-like of coefficents of a polynomial in descending order of degree\n",
    "    :return: list-like of coefficents of a polynomial in descending order of degree'''\n",
    "    \n",
    "    r = [f, g]\n",
    "    i = 0\n",
    "    while abs(r[i + 1][0]) > 1e-16:\n",
    "        r.append(poly_div(r[i], r[i + 1])[1])\n",
    "        i += 1\n",
    "    \n",
    "    return r[-2]"
   ]
  },
  {
   "cell_type": "code",
   "execution_count": 105,
   "metadata": {},
   "outputs": [],
   "source": [
    "def sturm_seq(coef):\n",
    "    '''This creates a list of polynomials which represent those in the sturm sequence as \n",
    "    defined by Sturm's theorem\n",
    "    \n",
    "    :param coef: list-like of coefficents of a square-free polynomial in descending order of degree\n",
    "    :return: list of lists of coefficents'''\n",
    "    \n",
    "    out = [coef, differentiate(coef)]\n",
    "    next_term = [c * -1 for c in poly_div(out[0], out[1])[1]]\n",
    "    i = 1\n",
    "    while abs(next_term[0]) > 1e-16:\n",
    "        out.append(next_term)\n",
    "        next_term = [c * -1 for c in poly_div(out[i], out[i + 1])[1]]\n",
    "        i += 1\n",
    "    return out"
   ]
  },
  {
   "cell_type": "code",
   "execution_count": 8,
   "metadata": {},
   "outputs": [],
   "source": [
    "def is_opposite(a, b):\n",
    "    return (a * b) <= 0"
   ]
  },
  {
   "cell_type": "code",
   "execution_count": 9,
   "metadata": {},
   "outputs": [],
   "source": [
    "def count_changes(a):\n",
    "    '''Given list a, count the number of sign changes'''\n",
    "    \n",
    "    testable = []\n",
    "    for c in a:\n",
    "        if abs(c) > 1e-16:\n",
    "            testable.append(c)\n",
    "    \n",
    "    num_changes = 0\n",
    "    for i in range(1, len(testable)):\n",
    "        if is_opposite(a[i - 1], a[i]):\n",
    "            num_changes += 1\n",
    "        \n",
    "    return num_changes"
   ]
  },
  {
   "cell_type": "code",
   "execution_count": 10,
   "metadata": {},
   "outputs": [],
   "source": [
    "def sturm_seq_eval(seq, xi):\n",
    "    evaluated = [horners_method(x, xi) for x in seq]\n",
    "    return count_changes(evaluated)"
   ]
  },
  {
   "cell_type": "code",
   "execution_count": 53,
   "metadata": {},
   "outputs": [],
   "source": [
    "def determinant(A):\n",
    "    # done by row reduction rather than cofactor expansion\n",
    "    m = len(A)\n",
    "    n = len(A[0])\n",
    "    out = deepcopy(A)\n",
    "    # convert to upper triangular matrix\n",
    "    for t in range(m):\n",
    "        base_row = out[t]\n",
    "        for i in range(t + 1, m):\n",
    "            factor = (-1 * Fraction(A[i][t])) / Fraction(A[t][t])\n",
    "            for j in range(n):\n",
    "                out[i][j] += factor*base_row[j]\n",
    "    # calculate determinant\n",
    "    det = 1\n",
    "    for d in range(min(m, n)):\n",
    "        det *= out[d][d]\n",
    "    return det"
   ]
  },
  {
   "cell_type": "code",
   "execution_count": 41,
   "metadata": {},
   "outputs": [],
   "source": [
    "def transpose(A):\n",
    "    m = len(A)\n",
    "    n = len(A[0])\n",
    "    A_prime = []\n",
    "    for i in range(n):\n",
    "        row = []\n",
    "        for j in range(m):\n",
    "            row.append(A[j][i])\n",
    "        A_prime.append(row)\n",
    "    return A_prime"
   ]
  },
  {
   "cell_type": "code",
   "execution_count": null,
   "metadata": {},
   "outputs": [],
   "source": [
    "def resulatant(f, g):\n",
    "    degree_f = len(f) - 1\n",
    "    degree_g = len(g) - 1\n",
    "    # create matrix\n",
    "    sylvester_matrix = []\n",
    "    m = n = degree_f + degree_g\n",
    "    # add coefficenets of polynomial f\n",
    "    for i in range(degree_g):\n",
    "        row = [0 for j in range(n)]\n",
    "        j = i\n",
    "        while (j - i < degree_f) and (j < n):\n",
    "            row[j] = f[j - i]\n",
    "        sylvester_matrix.append(row)\n",
    "    # add coeffiecents of polynomial g\n",
    "    for i in range(degree_f):\n",
    "        row = [0 for j in range(n)]\n",
    "        j = i\n",
    "        while (j - i < degree_g) and (j < n):\n",
    "            row[j] = g[j - i]\n",
    "    # find transpose of sylvester matrix\n",
    "    linear_map = transpose(sylvester_matrix)\n",
    "    # find determinant of map for resultant of two polynomials\n",
    "    det = determinant(linear_map)\n",
    "    \n",
    "    return det            "
   ]
  },
  {
   "cell_type": "code",
   "execution_count": null,
   "metadata": {},
   "outputs": [],
   "source": [
    "def discriminant(coef):\n",
    "    degree = len(coef) - 1\n",
    "    sign = 1 if ((n * (n - 1) / 2) % 2 == 0) else -1\n",
    "    factor = Decimal(sign) / Decimal(coef[0])\n",
    "    res = resultant(coef, differentiate(coef))\n",
    "    return factor * res"
   ]
  },
  {
   "cell_type": "code",
   "execution_count": 162,
   "metadata": {},
   "outputs": [],
   "source": [
    "# f = (x - 1)^2 (x - 3)(x + 4) = x^4 - x^3 - 13x^2 + 25x - 12\n",
    "f = [1, -1 , -13, 25, -12]\n",
    "num_ints = 8 # number of intervals\n",
    "precision = 1e-15\n",
    "\n",
    "# remove multiple roots\n",
    "f_star = poly_div(f, gcd(f, differentiate(f)))[0]\n",
    "\n",
    "# find Sturm sequence for function\n",
    "seq = sturm_seq(f_star)\n",
    "\n",
    "# find the bounds of our roots and step up inital intervals\n",
    "lb, ub = cauchy_bound(f_star)\n",
    "step = (ub - lb) / num_ints\n",
    "num_roots = sturm_seq_eval(seq, lb) - sturm_seq_eval(seq, ub)\n",
    "next_ints = [[lb + (i*step), lb + ((i+1)*step)] for i in range(num_ints)]\n",
    "intervals = next_ints\n",
    "\n",
    "while max([abs(x[1] - x[0]) for x in intervals]) > precision:\n",
    "    intervals = next_ints\n",
    "\n",
    "    # get root counts for intervals\n",
    "    root_counts = []\n",
    "    for x in intervals:\n",
    "        root_counts.append(sturm_seq_eval(seq, x[0]) - sturm_seq_eval(seq, x[1]))\n",
    "\n",
    "    # find smaller intervals \n",
    "    next_ints = []\n",
    "    for i in range(1, len(root_counts)):\n",
    "        if root_counts[i] > 0:\n",
    "            a = intervals[i][0]\n",
    "            b = intervals[i][1]\n",
    "            step = (b - a) / num_ints\n",
    "            next_ints += [[a + (i*step), a + ((i+1)*step)] for i in range(num_ints + 1)]\n",
    "    #print([(x[0], float(x[1][0]), float(x[1][1])) for x in zip(root_counts, intervals)])\n",
    "    #print()\n",
    "    \n",
    "# find our candiadate intervals\n",
    "candidates = []\n",
    "for j in range(len(root_counts)):\n",
    "    if root_counts[j] != 0:\n",
    "        candidates.append((root_counts[j], intervals[j][0], intervals[j][1]))"
   ]
  },
  {
   "cell_type": "code",
   "execution_count": 159,
   "metadata": {},
   "outputs": [
    {
     "data": {
      "text/plain": [
       "[-0.07301658163265307, 0.0, 0.9492155612244898, -0.8761989795918367]"
      ]
     },
     "execution_count": 159,
     "metadata": {},
     "output_type": "execute_result"
    }
   ],
   "source": [
    "[float(x) for x in f_star]"
   ]
  },
  {
   "cell_type": "code",
   "execution_count": 160,
   "metadata": {},
   "outputs": [
    {
     "data": {
      "text/plain": [
       "2"
      ]
     },
     "execution_count": 160,
     "metadata": {},
     "output_type": "execute_result"
    }
   ],
   "source": [
    "sturm_seq_eval(seq, -3)"
   ]
  },
  {
   "cell_type": "code",
   "execution_count": 161,
   "metadata": {},
   "outputs": [
    {
     "data": {
      "text/plain": [
       "[(1,\n",
       "  Fraction(-1152921504606846989, 288230376151711744),\n",
       "  Fraction(-576460752303423491, 144115188075855872)),\n",
       " (1,\n",
       "  Fraction(-576460752303423491, 144115188075855872),\n",
       "  Fraction(-1152921504606846975, 288230376151711744)),\n",
       " (-1,\n",
       "  Fraction(-144115188075855871, 36028797018963968),\n",
       "  Fraction(-1152921504606846961, 288230376151711744)),\n",
       " (1,\n",
       "  Fraction(72057594037927925, 72057594037927936),\n",
       "  Fraction(288230376151711707, 288230376151711744)),\n",
       " (1,\n",
       "  Fraction(432345564227567613, 144115188075855872),\n",
       "  Fraction(864691128455135233, 288230376151711744))]"
      ]
     },
     "execution_count": 161,
     "metadata": {},
     "output_type": "execute_result"
    }
   ],
   "source": [
    "candidates"
   ]
  },
  {
   "cell_type": "code",
   "execution_count": 157,
   "metadata": {},
   "outputs": [
    {
     "name": "stdout",
     "output_type": "stream",
     "text": [
      "\t\\item The interval $(\\frac{-72057594037927939}{18014398509481984}, \\frac{-144115188075855871}{36028797018963968}) \\approx (-4.0, -4.0)$ has 2 root.\n",
      "\t\\item The interval $(\\frac{-144115188075855871}{36028797018963968}, \\frac{-18014398509481983}{4503599627370496}) \\approx (-4.0, -4.0)$ has -1 root.\n",
      "\t\\item The interval $(\\frac{36028797018963959}{36028797018963968}, \\frac{18014398509481983}{18014398509481984}) \\approx (0.9999999999999998, 1.0)$ has 1 root.\n",
      "\t\\item The interval $(\\frac{54043195528445949}{18014398509481984}, \\frac{108086391056891905}{36028797018963968}) \\approx (3.0, 3.0)$ has 1 root.\n"
     ]
    }
   ],
   "source": [
    "for i in range(len(candidates)):\n",
    "    print(f\"\"\"\\t\\item The interval $(\\\\frac{{{candidates[i][1].numerator}}}{{{candidates[i][1].denominator}}}, \\\\frac{{{candidates[i][2].numerator}}}{{{candidates[i][2].denominator}}}) \\\\approx ({float(candidates[i][1])}, {float(candidates[i][2])})$ has {candidates[i][0]} root.\"\"\")"
   ]
  },
  {
   "cell_type": "code",
   "execution_count": 128,
   "metadata": {},
   "outputs": [
    {
     "data": {
      "text/plain": [
       "[0, 1, 1, 1]"
      ]
     },
     "execution_count": 128,
     "metadata": {},
     "output_type": "execute_result"
    }
   ],
   "source": [
    "root_counts"
   ]
  },
  {
   "cell_type": "code",
   "execution_count": 17,
   "metadata": {},
   "outputs": [
    {
     "data": {
      "text/plain": [
       "[-0.07301658163265307, 0.0, 0.9492155612244898, -0.8761989795918367]"
      ]
     },
     "execution_count": 17,
     "metadata": {},
     "output_type": "execute_result"
    }
   ],
   "source": [
    "[float(x) for x in f_star]"
   ]
  },
  {
   "cell_type": "code",
   "execution_count": 163,
   "metadata": {},
   "outputs": [
    {
     "data": {
      "text/plain": [
       "[(0, -4.000000000000002, -4.000000000000001),\n",
       " (0, -4.000000000000001, -4.000000000000001),\n",
       " (0, -4.000000000000001, -4.000000000000001),\n",
       " (0, -4.000000000000001, -4.000000000000001),\n",
       " (0, -4.000000000000001, -4.0),\n",
       " (0, -4.0, -4.0),\n",
       " (2, -4.0, -4.0),\n",
       " (-1, -4.0, -4.0),\n",
       " (0, -4.0, -3.9999999999999996),\n",
       " (0, 0.9999999999999996, 0.9999999999999998),\n",
       " (1, 0.9999999999999998, 1.0),\n",
       " (0, 1.0, 1.0000000000000002),\n",
       " (0, 1.0000000000000002, 1.0000000000000004),\n",
       " (0, 1.0000000000000004, 1.0000000000000004),\n",
       " (0, 1.0000000000000004, 1.0000000000000007),\n",
       " (0, 1.0000000000000007, 1.0000000000000009),\n",
       " (0, 1.0000000000000009, 1.000000000000001),\n",
       " (0, 1.000000000000001, 1.0000000000000013),\n",
       " (0, 2.9999999999999987, 2.9999999999999987),\n",
       " (0, 2.9999999999999987, 2.999999999999999),\n",
       " (0, 2.999999999999999, 2.999999999999999),\n",
       " (0, 2.999999999999999, 2.9999999999999996),\n",
       " (0, 2.9999999999999996, 2.9999999999999996),\n",
       " (0, 2.9999999999999996, 3.0),\n",
       " (1, 3.0, 3.0),\n",
       " (0, 3.0, 3.0),\n",
       " (0, 3.0, 3.0000000000000004)]"
      ]
     },
     "execution_count": 163,
     "metadata": {},
     "output_type": "execute_result"
    }
   ],
   "source": [
    "[(x[0], float(x[1][0]), float(x[1][1])) for x in zip(root_counts, intervals)]"
   ]
  },
  {
   "cell_type": "code",
   "execution_count": 28,
   "metadata": {},
   "outputs": [
    {
     "data": {
      "text/plain": [
       "0.24427486345015936"
      ]
     },
     "execution_count": 28,
     "metadata": {},
     "output_type": "execute_result"
    }
   ],
   "source": [
    "horners_method(f_star, 1.3846153846153844)"
   ]
  },
  {
   "cell_type": "code",
   "execution_count": 249,
   "metadata": {},
   "outputs": [
    {
     "data": {
      "text/plain": [
       "0.44110086038495233"
      ]
     },
     "execution_count": 249,
     "metadata": {},
     "output_type": "execute_result"
    }
   ],
   "source": [
    "horners_method(f_star, 2.0816659994661326)"
   ]
  },
  {
   "cell_type": "code",
   "execution_count": 250,
   "metadata": {},
   "outputs": [
    {
     "data": {
      "text/plain": [
       "[0.44110086038495233,\n",
       " 2.220446049250313e-16,\n",
       " 0.44110086038495233,\n",
       " Fraction(11449, 21632)]"
      ]
     },
     "execution_count": 250,
     "metadata": {},
     "output_type": "execute_result"
    }
   ],
   "source": [
    "[horners_method(x, 2.0816659994661326) for x in seq]"
   ]
  },
  {
   "cell_type": "code",
   "execution_count": 230,
   "metadata": {},
   "outputs": [
    {
     "data": {
      "text/plain": [
       "[[Fraction(-11449, 156800),\n",
       "  Fraction(0, 1),\n",
       "  Fraction(148837, 156800),\n",
       "  Fraction(-34347, 39200)],\n",
       " [Fraction(-34347, 156800), Fraction(0, 1), Fraction(148837, 156800)],\n",
       " [Fraction(148837, 235200), Fraction(-34347, 39200)],\n",
       " [Fraction(11449, 21632)]]"
      ]
     },
     "execution_count": 230,
     "metadata": {},
     "output_type": "execute_result"
    }
   ],
   "source": [
    "seq"
   ]
  },
  {
   "cell_type": "code",
   "execution_count": 124,
   "metadata": {},
   "outputs": [],
   "source": [
    "lb, ub = (-3, 3)\n",
    "num_ints = 3\n",
    "step = (ub - lb) / num_ints\n",
    "intervals = [lb + (i*step) for i in range(num_ints)] + [ub]"
   ]
  },
  {
   "cell_type": "code",
   "execution_count": 141,
   "metadata": {},
   "outputs": [],
   "source": [
    "root_counts = [sturm_seq_eval(temp, x) for x in intervals]\n",
    "next_ints = []\n",
    "for i in range(1, len(root_counts)):\n",
    "    r1 = root_counts[i - 1]\n",
    "    r2 = root_counts[i]\n",
    "    if (r1 - r2) > 0:\n",
    "        a = intervals[i - 1]\n",
    "        b = intervals[i]\n",
    "        next_ints.append((a, (b + a) / 2, b))"
   ]
  },
  {
   "cell_type": "code",
   "execution_count": 142,
   "metadata": {},
   "outputs": [
    {
     "data": {
      "text/plain": [
       "[(-1.0, 0.0, 1.0)]"
      ]
     },
     "execution_count": 142,
     "metadata": {},
     "output_type": "execute_result"
    }
   ],
   "source": [
    "next_ints"
   ]
  },
  {
   "cell_type": "code",
   "execution_count": 128,
   "metadata": {},
   "outputs": [
    {
     "data": {
      "text/plain": [
       "[[1, -1], [Fraction(1, 1)]]"
      ]
     },
     "execution_count": 128,
     "metadata": {},
     "output_type": "execute_result"
    }
   ],
   "source": [
    "temp"
   ]
  },
  {
   "cell_type": "code",
   "execution_count": 138,
   "metadata": {},
   "outputs": [
    {
     "data": {
      "text/plain": [
       "[1, 1, 0, 0]"
      ]
     },
     "execution_count": 138,
     "metadata": {},
     "output_type": "execute_result"
    }
   ],
   "source": [
    "temp = sturm_seq([1, -1])\n",
    "[sturm_seq_eval(temp, x) for x in intervals]"
   ]
  },
  {
   "cell_type": "code",
   "execution_count": 96,
   "metadata": {},
   "outputs": [
    {
     "data": {
      "text/plain": [
       "[12, Fraction(-3, 1)]"
      ]
     },
     "execution_count": 96,
     "metadata": {},
     "output_type": "execute_result"
    }
   ],
   "source": [
    "[horners_method(x, -3) for x in sturm_chain([1, -1])]"
   ]
  },
  {
   "cell_type": "code",
   "execution_count": 99,
   "metadata": {},
   "outputs": [
    {
     "data": {
      "text/plain": [
       "1"
      ]
     },
     "execution_count": 99,
     "metadata": {},
     "output_type": "execute_result"
    }
   ],
   "source": [
    "count_changes([horners_method(x, -3) for x in sturm_chain([1, -1])])"
   ]
  },
  {
   "cell_type": "code",
   "execution_count": 89,
   "metadata": {},
   "outputs": [
    {
     "data": {
      "text/plain": [
       "2"
      ]
     },
     "execution_count": 89,
     "metadata": {},
     "output_type": "execute_result"
    }
   ],
   "source": [
    "count_changes([1, 2, -1, 0, -3, 1])"
   ]
  },
  {
   "cell_type": "code",
   "execution_count": 20,
   "metadata": {},
   "outputs": [
    {
     "data": {
      "text/plain": [
       "([1.0, -1.0], [0.0])"
      ]
     },
     "execution_count": 20,
     "metadata": {},
     "output_type": "execute_result"
    }
   ],
   "source": [
    "poly_div([1, -2, 1], [1, -1])"
   ]
  },
  {
   "cell_type": "code",
   "execution_count": 23,
   "metadata": {},
   "outputs": [
    {
     "data": {
      "text/plain": [
       "[1, -1]"
      ]
     },
     "execution_count": 23,
     "metadata": {},
     "output_type": "execute_result"
    }
   ],
   "source": [
    "gcd([1, -2, 1], [1, -1])"
   ]
  },
  {
   "cell_type": "code",
   "execution_count": 16,
   "metadata": {},
   "outputs": [
    {
     "data": {
      "text/plain": [
       "False"
      ]
     },
     "execution_count": 16,
     "metadata": {},
     "output_type": "execute_result"
    }
   ],
   "source": [
    "1 <= 1e-16"
   ]
  },
  {
   "cell_type": "code",
   "execution_count": 8,
   "metadata": {},
   "outputs": [
    {
     "data": {
      "text/plain": [
       "([1.0, -1.0], [0.0])"
      ]
     },
     "execution_count": 8,
     "metadata": {},
     "output_type": "execute_result"
    }
   ],
   "source": [
    "poly_div([1, -2, 1], [1, -1])"
   ]
  },
  {
   "cell_type": "code",
   "execution_count": 9,
   "metadata": {},
   "outputs": [
    {
     "data": {
      "text/plain": [
       "([1.0], [0.0])"
      ]
     },
     "execution_count": 9,
     "metadata": {},
     "output_type": "execute_result"
    }
   ],
   "source": [
    "poly_div([1, -2, 1], [1, -2, 1])"
   ]
  },
  {
   "cell_type": "code",
   "execution_count": 10,
   "metadata": {},
   "outputs": [
    {
     "data": {
      "text/plain": [
       "[1, -2, 1]"
      ]
     },
     "execution_count": 10,
     "metadata": {},
     "output_type": "execute_result"
    }
   ],
   "source": [
    "gcd([1, -2, 1], [1, -1])"
   ]
  },
  {
   "cell_type": "code",
   "execution_count": 30,
   "metadata": {},
   "outputs": [
    {
     "data": {
      "text/plain": [
       "[[1, -2, 1], [1, -2, 1], [0.0]]"
      ]
     },
     "execution_count": 30,
     "metadata": {},
     "output_type": "execute_result"
    }
   ],
   "source": [
    "gcd([1, -2, 1], [1, -2, 1])"
   ]
  },
  {
   "cell_type": "code",
   "execution_count": 66,
   "metadata": {},
   "outputs": [],
   "source": [
    "x = [1, -2, 1]"
   ]
  },
  {
   "cell_type": "code",
   "execution_count": 67,
   "metadata": {},
   "outputs": [
    {
     "data": {
      "text/plain": [
       "[2, -2]"
      ]
     },
     "execution_count": 67,
     "metadata": {},
     "output_type": "execute_result"
    }
   ],
   "source": [
    "differentiate(x)"
   ]
  },
  {
   "cell_type": "code",
   "execution_count": 72,
   "metadata": {},
   "outputs": [
    {
     "data": {
      "text/plain": [
       "([0.5, -0.5], [0.0])"
      ]
     },
     "execution_count": 72,
     "metadata": {},
     "output_type": "execute_result"
    }
   ],
   "source": [
    "poly_div(x, gcd(x, differentiate(x)))"
   ]
  },
  {
   "cell_type": "code",
   "execution_count": 61,
   "metadata": {},
   "outputs": [
    {
     "data": {
      "text/plain": [
       "([Fraction(-9, 8), Fraction(9, 2), Fraction(-27, 8)], [0])"
      ]
     },
     "execution_count": 61,
     "metadata": {},
     "output_type": "execute_result"
    }
   ],
   "source": [
    "x = [1, -5, 7, -3]\n",
    "x_star = poly_div(x, gcd(x, differentiate(x)))\n",
    "x_star"
   ]
  },
  {
   "cell_type": "code",
   "execution_count": 64,
   "metadata": {},
   "outputs": [],
   "source": [
    "import numpy as np"
   ]
  },
  {
   "cell_type": "code",
   "execution_count": 66,
   "metadata": {},
   "outputs": [
    {
     "data": {
      "text/plain": [
       "Fraction(0, 1)"
      ]
     },
     "execution_count": 66,
     "metadata": {},
     "output_type": "execute_result"
    }
   ],
   "source": [
    "horners_method(x_star[0], 1)"
   ]
  },
  {
   "cell_type": "code",
   "execution_count": 46,
   "metadata": {},
   "outputs": [
    {
     "data": {
      "text/plain": [
       "[[1, -5, 7, -3], [3, -10, 7], [-0.8888888888888902, 0.8888888888888897], [0.0]]"
      ]
     },
     "execution_count": 46,
     "metadata": {},
     "output_type": "execute_result"
    }
   ],
   "source": [
    "gcd([1, -5, 7, -3], [3, -10, 7])"
   ]
  },
  {
   "cell_type": "code",
   "execution_count": 28,
   "metadata": {},
   "outputs": [
    {
     "data": {
      "text/plain": [
       "([3.0, -7.0], [0.0])"
      ]
     },
     "execution_count": 28,
     "metadata": {},
     "output_type": "execute_result"
    }
   ],
   "source": [
    "poly_div([3, -10, 7], [1, -1])"
   ]
  },
  {
   "cell_type": "code",
   "execution_count": 106,
   "metadata": {},
   "outputs": [
    {
     "data": {
      "text/plain": [
       "[3, -6, 3]"
      ]
     },
     "execution_count": 106,
     "metadata": {},
     "output_type": "execute_result"
    }
   ],
   "source": [
    "x = [1, -3, 3, -1]\n",
    "den = gcd(x, differentiate(x))\n",
    "den"
   ]
  },
  {
   "cell_type": "code",
   "execution_count": 107,
   "metadata": {},
   "outputs": [
    {
     "data": {
      "text/plain": [
       "([0.3333333333333333, -0.3333333333333333], [0.0])"
      ]
     },
     "execution_count": 107,
     "metadata": {},
     "output_type": "execute_result"
    }
   ],
   "source": [
    "poly_div(x, den)"
   ]
  },
  {
   "cell_type": "code",
   "execution_count": 100,
   "metadata": {},
   "outputs": [
    {
     "data": {
      "text/plain": [
       "([0.3333333333333333, -0.3333333333333333], [0.0])"
      ]
     },
     "execution_count": 100,
     "metadata": {},
     "output_type": "execute_result"
    }
   ],
   "source": [
    "poly_div(x, differentiate(x))"
   ]
  },
  {
   "cell_type": "code",
   "execution_count": null,
   "metadata": {},
   "outputs": [],
   "source": []
  }
 ],
 "metadata": {
  "jupytext": {
   "formats": "ipynb,py:percent"
  },
  "kernelspec": {
   "display_name": "Python 3",
   "language": "python",
   "name": "python3"
  },
  "language_info": {
   "codemirror_mode": {
    "name": "ipython",
    "version": 3
   },
   "file_extension": ".py",
   "mimetype": "text/x-python",
   "name": "python",
   "nbconvert_exporter": "python",
   "pygments_lexer": "ipython3",
   "version": "3.7.3"
  }
 },
 "nbformat": 4,
 "nbformat_minor": 4
}
